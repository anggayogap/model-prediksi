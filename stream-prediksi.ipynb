{
 "cells": [
  {
   "cell_type": "code",
   "execution_count": 2,
   "id": "8ff136f2",
   "metadata": {},
   "outputs": [],
   "source": [
    "import pickle\n",
    "import streamlit as st\n",
    "\n",
    "#membaca model\n",
    "kelapasawit_model = pickle.load(open('kelapasawit_model.sav', 'rb'))\n",
    "\n",
    "#judul web\n",
    "st.title('Data Mining Prediksi Waktu Pengepulan Kelapa Sawit')\n",
    "\n",
    "col1, col2 = st.columns(2)\n",
    "\n",
    "with col1 :\n",
    "    CUACA = st.text_input ('input nilai cuaca')\n",
    "\n",
    "with col2 :\n",
    "    HARI = st.text_input ('input nilai Hari')\n",
    "\n",
    "with col1 :\n",
    "    TANGGAL = st.text_input ('input nilai tanggal')\n",
    "\n",
    "with col2 :\n",
    "    BULAN = st.text_input ('input nilai bulan')\n",
    "    \n",
    "with col1 :\n",
    "    TAHUN = st.text_input ('input nilai tahun')\n",
    "\n",
    "with col2 :\n",
    "    BERATAWAL = st.text_input ('input nilai berat awal')\n",
    "\n",
    "with col2 :\n",
    "    BERATAKHIR = st.text_input ('inpit nilai berat akhir')\n",
    "\n",
    "#code untuk prediksi\n",
    "kelapasawit_prediksi = ''\n",
    "\n",
    "#membuat tombol prediksi\n",
    "if st.button('prediksi pengepulan'):\n",
    "    kelapasawit_prediction = kelapasawit_model.predict([[CUACA, HARI, TANGGAL, BULAN, TAHUN, BERATAWAL, BERATAKHIR]])\n",
    "    \n",
    "    if(kelapasawit_prediction[0] == 1):\n",
    "        kelapasawit_prediksi = 'pengepulan kelapa sawit tepat waktu'\n",
    "    else :\n",
    "        kelapasawit_prediksi = 'pengepulan kelapa sawit ditunda' \n",
    "        \n",
    "    st.success(kelapasawit_prediksi)"
   ]
  },
  {
   "cell_type": "code",
   "execution_count": null,
   "id": "5e194a84",
   "metadata": {},
   "outputs": [],
   "source": []
  }
 ],
 "metadata": {
  "kernelspec": {
   "display_name": "Python 3 (ipykernel)",
   "language": "python",
   "name": "python3"
  },
  "language_info": {
   "codemirror_mode": {
    "name": "ipython",
    "version": 3
   },
   "file_extension": ".py",
   "mimetype": "text/x-python",
   "name": "python",
   "nbconvert_exporter": "python",
   "pygments_lexer": "ipython3",
   "version": "3.11.0"
  }
 },
 "nbformat": 4,
 "nbformat_minor": 5
}
